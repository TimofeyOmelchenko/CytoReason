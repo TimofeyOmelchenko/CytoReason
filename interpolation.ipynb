{
 "cells": [
  {
   "cell_type": "code",
   "execution_count": null,
   "id": "e75dc04d-2b14-4062-ae11-b6dc933987db",
   "metadata": {},
   "outputs": [],
   "source": [
    "import pandas as pd\n",
    "import numpy as np\n",
    "import matplotlib.pyplot as plt\n",
    "from scipy.interpolate import interp1d\n",
    "import psycopg2\n",
    "\n",
    "conn = psycopg2.connect(\n",
    "    host= 0,     \n",
    "    database= 0,\n",
    "    user= 0,\n",
    "    password= 0,\n",
    "    port= 0\n",
    ")\n",
    "\n",
    "query = \"\"\"\n",
    "SELECT dose_mg_ml, gene_expr_level\n",
    "FROM gene_dose_response\n",
    "WHERE experiment_id = 101\n",
    "ORDER BY dose_mg_ml;\n",
    "\"\"\"\n",
    "\n",
    "df = pd.read_sql(query, conn)\n",
    "conn.close()\n",
    "\n",
    "dose = df['dose_mg_ml'].values\n",
    "gene_expr = df['gene_expr_level'].values\n",
    "\n",
    "linear_interp = interp1d(dose, gene_expr, kind='linear')\n",
    "cubic_interp = interp1d(dose, gene_expr, kind='cubic')\n",
    "\n",
    "dose_new = np.linspace(dose.min(), dose.max(), 200)\n",
    "expr_linear = linear_interp(dose_new)\n",
    "expr_cubic = cubic_interp(dose_new)\n",
    "\n",
    "plt.figure(figsize=(8, 5))\n",
    "plt.plot(dose, gene_expr, 'o', label='Экспериментальные данные', color='black')\n",
    "plt.plot(dose_new, expr_linear, '--', label='Линейная интерполяция')\n",
    "plt.plot(dose_new, expr_cubic, '-', label='Кубическая интерполяция')\n",
    "plt.xlabel('Доза препарата (мг/мл)')\n",
    "plt.ylabel('Экспрессия гена (условные ед.)')\n",
    "plt.title('Интерполяция экспериментальных данных (из MRI_2023)')\n",
    "plt.legend()\n",
    "plt.grid(True)\n",
    "plt.tight_layout()\n",
    "plt.show()\n"
   ]
  }
 ],
 "metadata": {
  "kernelspec": {
   "display_name": "Python 3 (ipykernel)",
   "language": "python",
   "name": "python3"
  },
  "language_info": {
   "codemirror_mode": {
    "name": "ipython",
    "version": 3
   },
   "file_extension": ".py",
   "mimetype": "text/x-python",
   "name": "python",
   "nbconvert_exporter": "python",
   "pygments_lexer": "ipython3",
   "version": "3.12.2"
  }
 },
 "nbformat": 4,
 "nbformat_minor": 5
}
