{
 "cells": [
  {
   "cell_type": "code",
   "execution_count": null,
   "id": "8754653e",
   "metadata": {},
   "outputs": [],
   "source": [
    "import pandas as pd\n",
    "import numpy as np\n",
    "from sklearn.ensemble import RandomForestClassifier\n",
    "from sklearn.model_selection import train_test_split\n",
    "from sklearn.metrics import classification_report\n",
    "import matplotlib.pyplot as plt\n",
    "import seaborn as sns\n",
    "\n",
    "np.random.seed(42)\n",
    "n_samples = 500\n",
    "\n",
    "data = pd.DataFrame({\n",
    "    'gene_A_expr': np.random.normal(5, 2, n_samples),       # экспрессия гена A\n",
    "    'gene_B_expr': np.random.normal(3, 1.5, n_samples),     # экспрессия гена B\n",
    "    'gene_C_expr': np.random.normal(6, 2.5, n_samples),     # экспрессия гена C\n",
    "    'immune_score': np.random.uniform(0, 1, n_samples),     # иммунный индекс\n",
    "    'MRI_score': np.random.normal(50, 10, n_samples),       # баллы по MRI\n",
    "    'responded': np.random.choice([0, 1], size=n_samples, p=[0.4, 0.6])  # целевая переменная\n",
    "})\n",
    "\n",
    "X = data.drop(columns='responded')\n",
    "y = data['responded']\n",
    "X_train, X_test, y_train, y_test = train_test_split(X, y, test_size=0.3, stratify=y, random_state=42)\n",
    "\n",
    "model = RandomForestClassifier(n_estimators=100, random_state=42)\n",
    "model.fit(X_train, y_train)\n",
    "\n",
    "y_pred = model.predict(X_test)\n",
    "print(\"Классификационный отчёт:\\n\")\n",
    "print(classification_report(y_test, y_pred))\n",
    "\n",
    "importances = model.feature_importances_\n",
    "features = X.columns\n",
    "\n",
    "plt.figure(figsize=(8, 5))\n",
    "sns.barplot(x=importances, y=features)\n",
    "plt.title(\"Feature Importance: Predicting Therapy Response\")\n",
    "plt.xlabel(\"Importance\")\n",
    "plt.ylabel(\"Feature\")\n",
    "plt.tight_layout()\n",
    "plt.show()\n"
   ]
  }
 ],
 "metadata": {
  "kernelspec": {
   "display_name": "Python (myenv)",
   "language": "python",
   "name": "myenv"
  },
  "language_info": {
   "codemirror_mode": {
    "name": "ipython",
    "version": 3
   },
   "file_extension": ".py",
   "mimetype": "text/x-python",
   "name": "python",
   "nbconvert_exporter": "python",
   "pygments_lexer": "ipython3",
   "version": "3.12.2"
  }
 },
 "nbformat": 4,
 "nbformat_minor": 5
}
